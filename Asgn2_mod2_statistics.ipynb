{
  "nbformat": 4,
  "nbformat_minor": 0,
  "metadata": {
    "colab": {
      "provenance": []
    },
    "kernelspec": {
      "name": "python3",
      "display_name": "Python 3"
    },
    "language_info": {
      "name": "python"
    }
  },
  "cells": [
    {
      "cell_type": "markdown",
      "source": [
        "#Assigment2 statistics advance1 module-2"
      ],
      "metadata": {
        "id": "N8zrkhY-zY5l"
      }
    },
    {
      "cell_type": "markdown",
      "source": [
        "#Teory Question"
      ],
      "metadata": {
        "id": "5lLol3KwzT0B"
      }
    },
    {
      "cell_type": "markdown",
      "source": [
        "Ques1...What is a random variable in probability theory?\n",
        "- A random variable is a function that assigns numerical values to outcomes of a random experiment. It can be discrete (countable outcomes) or continuous (infinite outcomes). Random variables help in probability distributions, expectations, and statistical analysis. They model uncertainty in real-world scenarios like gambling, physics, finance, and machine learning."
      ],
      "metadata": {
        "id": "vDA0ZO8HzXeV"
      }
    },
    {
      "cell_type": "markdown",
      "source": [
        "Ques2...What are the types of random variables?\n",
        "- Random variables are of two types: Discrete and Continuous.\n",
        "\n",
        "- Discrete Random Variable: Takes countable values (e.g., number of heads in coin tosses).\n",
        "\n",
        "- Continuous Random Variable: Takes infinite values within a range (e.g., height, temperature).\n",
        "\n",
        "- Both types follow probability distributions like Binomial, Poisson, or Normal."
      ],
      "metadata": {
        "id": "XPJ0thQuz5PD"
      }
    },
    {
      "cell_type": "markdown",
      "source": [
        "Ques3 .. What is the difference between discrete and continuous distributions?\n",
        "- A discrete distribution applies to a discrete random variable, which takes countable values (e.g., 0, 1, 2). Examples include the Binomial and Poisson distributions. In contrast, a continuous distribution applies to a continuous random variable, which takes infinitely many values within an interval (e.g., height, weight). Examples include the Normal and Exponential distributions. Discrete distributions use probability mass functions (PMF), while continuous distributions use probability density functions (PDF).\n",
        "\n",
        "\n",
        "\n",
        "\n",
        "\n",
        "\n",
        "\n",
        "\n"
      ],
      "metadata": {
        "id": "iiBxIv0j0U51"
      }
    },
    {
      "cell_type": "markdown",
      "source": [
        "4.What are probability distribution functions (PDF)?\n",
        "- A Probability Distribution Function (PDF) describes how probabilities are distributed over values of a random variable. For discrete variables, the Probability Mass Function (PMF) gives probabilities for specific values. For continuous variables, the Probability Density Function (PDF) defines the likelihood of values within a range, where the total area under the curve equals 1."
      ],
      "metadata": {
        "id": "zCWJwiCN0xVS"
      }
    },
    {
      "cell_type": "markdown",
      "source": [
        "5.How do cumulative distribution functions (CDF) differ from probability distribution functions (PDF)?\n",
        "- A Probability Distribution Function (PDF) describes the likelihood of a random variable taking specific values. For discrete variables, it's called the Probability Mass Function (PMF), while for continuous variables, it's a Probability Density Function (PDF). In contrast, a Cumulative Distribution Function (CDF) gives the probability that a random variable is less than or equal to a certain value. The CDF is obtained by integrating the PDF for continuous variables or summing the PMF for discrete variables. Unlike PDFs, CDFs are always non-decreasing and range from 0 to 1."
      ],
      "metadata": {
        "id": "U3nixu6-1Ejv"
      }
    },
    {
      "cell_type": "markdown",
      "source": [
        "6.> What is a discrete uniform distribution?\n",
        "- A Discrete Uniform Distribution is a probability distribution where a finite number of outcomes are equally likely. If a random variable X takes\n",
        "n values x1,x2,x3.....each has a probability of\n",
        "1/n. An example is rolling a fair die, where each face (1–6) has an equal probability of 1/6"
      ],
      "metadata": {
        "id": "njKmBRxl1hAy"
      }
    },
    {
      "cell_type": "markdown",
      "source": [
        "7.What are the key properties of a Bernoulli distribution\n",
        "- The Bernoulli distribution has the following key properties:\n",
        "\n",
        "Binary Outcomes: It represents a single experiment with two possible outcomes—success (1) with probability\n",
        "𝑝\n",
        "p and failure (0) with probability\n",
        "1\n",
        "−\n",
        "𝑝\n",
        "1−p.\n",
        "\n",
        "Mean:\n",
        "𝐸\n",
        "(\n",
        "𝑋\n",
        ")\n",
        "=\n",
        "𝑝\n",
        "E(X)=p (expected value).\n",
        "\n",
        "Variance:\n",
        "Var\n",
        "(\n",
        "𝑋\n",
        ")\n",
        "=\n",
        "𝑝\n",
        "(\n",
        "1\n",
        "−\n",
        "𝑝\n",
        ")\n",
        "Var(X)=p(1−p).\n",
        "\n",
        "PMF:\n",
        "𝑃\n",
        "(\n",
        "𝑋\n",
        "=\n",
        "𝑥\n",
        ")\n",
        "=\n",
        "𝑝\n",
        "𝑥\n",
        "(\n",
        "1\n",
        "−\n",
        "𝑝\n",
        ")\n",
        "1\n",
        "−\n",
        "𝑥\n",
        "P(X=x)=p\n",
        "x\n",
        " (1−p)\n",
        "1−x\n",
        "  for\n",
        "𝑥\n",
        "∈\n",
        "{\n",
        "0\n",
        ",\n",
        "1\n",
        "}\n",
        "x∈{0,1}.\n",
        "\n",
        "Special Case of Binomial: A Bernoulli trial is a binomial distribution with\n",
        "𝑛\n",
        "=\n",
        "1\n",
        "n=1."
      ],
      "metadata": {
        "id": "CnCAGLTG16z-"
      }
    },
    {
      "cell_type": "markdown",
      "source": [
        "8.What is the binomial distribution, and how is it used in probability?\n",
        "- The Binomial Distribution models the number of successes in\n",
        "𝑛\n",
        "n independent Bernoulli trials, where each trial has two outcomes: success (\n",
        "𝑝\n",
        "p) or failure (\n",
        "1\n",
        "−\n",
        "𝑝\n",
        "1−p).\n",
        "\n",
        "Formula:\n",
        "𝑃\n",
        "(\n",
        "𝑋\n",
        "=\n",
        "𝑘\n",
        ")\n",
        "=\n",
        "(\n",
        "𝑛\n",
        "𝑘\n",
        ")\n",
        "𝑝\n",
        "𝑘\n",
        "(\n",
        "1\n",
        "−\n",
        "𝑝\n",
        ")\n",
        "𝑛\n",
        "−\n",
        "𝑘\n",
        "P(X=k)=(\n",
        "k\n",
        "n\n",
        "​\n",
        " )p\n",
        "k\n",
        " (1−p)\n",
        "n−k\n",
        "\n",
        "where\n",
        "𝑘\n",
        "k is the number of successes,\n",
        "𝑝\n",
        "p is the probability of success, and\n",
        "𝑛\n",
        "n is the number of trials.\n",
        "\n",
        "Usage in Probability:\n",
        "Predicting the number of heads in coin tosses\n",
        "\n",
        "Quality control in manufacturing (defective vs. non-defective items)\n",
        "\n",
        "Medical trials (patients responding to treatment)\n",
        "\n",
        "Election polling (voters supporting a candidate)"
      ],
      "metadata": {
        "id": "2vt1QgEG2Lko"
      }
    },
    {
      "cell_type": "markdown",
      "source": [
        "9.\n",
        "What is the Poisson distribution and where is it applied\n",
        "- The Poisson distribution models the probability of a fixed number of events occurring in a fixed interval of time or space, assuming the events happen independently and at a constant average rate\n",
        "𝜆\n",
        "λ. It is used for rare events where occurrences are random but follow a known mean rate."
      ],
      "metadata": {
        "id": "JvWZxxyu2UFT"
      }
    },
    {
      "cell_type": "markdown",
      "source": [
        "10. What is a continuous uniform distribution ?\n",
        "- A Continuous Uniform Distribution describes a random variable that has an equal probability of taking any value within a specified range\n",
        "[\n",
        "𝑎\n",
        ",\n",
        "𝑏\n",
        "]\n",
        "[a,b]. The probability density function (PDF) is constant, meaning every value in the interval is equally likely, and the total probability over the range is 1.\n",
        "\n",
        "This distribution is commonly used in scenarios where there is no preference for any particular outcome within a range. Examples include randomly selecting a point on a line segment, generating random numbers in simulations, and modeling waiting times when no bias exists. It is fundamental in probability theory and serves as a basis for other distributions."
      ],
      "metadata": {
        "id": "oF2QT46M2saV"
      }
    },
    {
      "cell_type": "markdown",
      "source": [
        "11.What are the characteristics of a normal distribution)\n",
        "\n",
        "- A Normal Distribution, also known as a Gaussian Distribution, is a continuous probability distribution characterized by its symmetric, bell-shaped curve. It is fully defined by two parameters: the mean (μ), which determines the center, and the standard deviation (σ), which controls the spread of the data.\n",
        "\n",
        "One key characteristic is that it follows the empirical rule (68-95-99.7 rule), meaning approximately 68% of values lie within one standard deviation, 95% within two, and 99.7% within three. It is also unimodal, meaning it has a single peak, and it extends infinitely in both directions without touching the x-axis.\n"
      ],
      "metadata": {
        "id": "evhzG6lI263w"
      }
    },
    {
      "cell_type": "markdown",
      "source": [
        "12> What is the standard normal distribution, and why is it important)\n",
        "\n",
        "- The Standard Normal Distribution is a special case of the Normal Distribution where the mean (μ) is 0 and the standard deviation (σ) is 1. It is represented by the Z-score formula:\n",
        "\n",
        "𝑍\n",
        "=\n",
        "𝑋\n",
        "−\n",
        "𝜇\n",
        "𝜎\n",
        "Z=\n",
        "σ\n",
        "X−μ\n",
        "​\n",
        "\n",
        "where Z measures how many standard deviations a value X is from the mean.\n",
        "\n",
        "This distribution is important because it allows for easy comparison of different normal distributions by converting values into a common scale. It is widely used in statistical inference, hypothesis testing, confidence intervals, and probability calculations using Z-tables."
      ],
      "metadata": {
        "id": "NyWvIlYG3gKO"
      }
    },
    {
      "cell_type": "markdown",
      "source": [
        "13.What is the Central Limit Theorem (CLT), and why is it critical in statistics?\n",
        "- The Central Limit Theorem (CLT) states that, regardless of the original population distribution, the sampling distribution of the sample mean approaches a normal distribution as the sample size increases (typically\n",
        "𝑛\n",
        "≥\n",
        "30\n",
        "n≥30). The mean of this distribution equals the population mean\n",
        "𝜇\n",
        "μ, and the standard deviation is\n",
        "𝜎\n",
        "/\n",
        "𝑛\n",
        "σ/\n",
        "n\n",
        "​\n",
        " .\n",
        "\n",
        "CLT is critical in statistics because it allows researchers to use normal probability models for inference, even when data are not normally distributed. It enables the use of confidence intervals, hypothesis testing, and regression analysis, making it foundational for statistical reasoning and decision-making in real-world applications."
      ],
      "metadata": {
        "id": "vrwDfqEv3vLq"
      }
    },
    {
      "cell_type": "markdown",
      "source": [
        "14.  How does the Central Limit Theorem relate to the normal distribution?\n",
        "- The Central Limit Theorem (CLT) establishes a direct connection to the normal distribution by stating that, as the sample size increases, the sampling distribution of the sample mean becomes approximately normal, regardless of the original population distribution.\n",
        "\n",
        "- This relationship is crucial because it allows statisticians to apply normal distribution-based methods, such as confidence intervals and hypothesis testing, even when dealing with non-normally distributed data. The CLT justifies the widespread use of Z-tests and T-tests, as real-world data often come from unknown or skewed distributions, but their sample means still follow a normal pattern when sufficiently large samples are taken."
      ],
      "metadata": {
        "id": "PeOAynZn36Gq"
      }
    },
    {
      "cell_type": "markdown",
      "source": [
        "15. What is the application of Z statistics in hypothesis testing)\n",
        "- Z-statistics are used in hypothesis testing when the population variance is known, or the sample size is large (\n",
        "𝑛\n",
        "≥\n",
        "30\n",
        "n≥30). It helps determine whether a sample mean significantly differs from a population mean by converting the test statistic into a standard normal (Z) score. This allows researchers to compare results against a critical value from the Z-table or compute a p-value to assess statistical significance."
      ],
      "metadata": {
        "id": "3EGq_g7z4Fvz"
      }
    },
    {
      "cell_type": "markdown",
      "source": [
        "16> How do you calculate a Z-score, and what does it represent?\n",
        "- A Z-score is calculated using the formula:\n",
        "\n",
        "𝑍\n",
        "=\n",
        "𝑋\n",
        "−\n",
        "𝜇\n",
        "𝜎\n",
        "Z=\n",
        "σ\n",
        "X−μ\n",
        "​\n",
        "\n",
        "where:\n",
        "\n",
        "𝑋\n",
        "X is the observed value,\n",
        "\n",
        "𝜇\n",
        "μ is the population mean,\n",
        "\n",
        "𝜎\n",
        "σ is the population standard deviation.\n",
        "\n",
        "The Z-score represents how many standard deviations an observed value is from the mean. A positive Z-score indicates that the value is above the mean, while a negative Z-score means it is below the mean. It is widely used in standardizing scores, outlier detection, and probability calculations in normal distributions.\n",
        "\n",
        "\n",
        "\n",
        "\n",
        "\n",
        "\n",
        "\n",
        "\n"
      ],
      "metadata": {
        "id": "TB0o0rt_4pYx"
      }
    },
    {
      "cell_type": "markdown",
      "source": [
        "17.> What are point estimates and interval estimates in statistics)\n",
        "- A point estimate is a single value used to approximate an unknown population parameter. For example, the sample mean (\n",
        "𝑋\n",
        "ˉ\n",
        "X\n",
        "ˉ\n",
        " ) is a point estimate of the population mean (\n",
        "𝜇\n",
        "μ). It provides a quick and simple estimate but lacks information about uncertainty.\n",
        "\n",
        "An interval estimate, such as a confidence interval (CI), provides a range of values within which the population parameter is likely to fall. It includes a margin of error and a confidence level (e.g., 95%), offering more reliability than a point estimate. Interval estimates are widely used in research, polling, and quality control to account for variability in data."
      ],
      "metadata": {
        "id": "5-jktuo14yla"
      }
    },
    {
      "cell_type": "markdown",
      "source": [
        "18.What is the significance of confidence intervals in statistical analysis)\n",
        "- Confidence intervals (CIs) are crucial in statistical analysis because they provide a range of values that likely contain the true population parameter, rather than relying on a single point estimate. A 95% confidence interval, for example, means that if we repeated the sampling process multiple times, 95% of the intervals would contain the true parameter.\n",
        "\n",
        "CIs help quantify uncertainty in estimates, making them essential in hypothesis testing, survey analysis, and decision-making. They allow researchers to determine the precision of their estimates and assess the statistical significance of differences between groups, helping in fields like medicine, economics, and social sciences.\n",
        "\n",
        "\n",
        "\n",
        "\n",
        "\n",
        "\n",
        "\n",
        "\n",
        "\n"
      ],
      "metadata": {
        "id": "UApgWlwU49fl"
      }
    },
    {
      "cell_type": "markdown",
      "source": [
        "19.What is the relationship between a Z-score and a confidence interval?\n",
        "- A Z-score and a confidence interval (CI) are closely related because the Z-score determines the margin of error in constructing the confidence interval for a normally distributed population.\n",
        "\n",
        "- :The Z-score corresponds to a confidence level (e.g., 1.96 for 95% CI), representing how many standard deviations a value must be from the mean to capture the true population parameter. The confidence interval formula is:\n",
        "\n",
        "𝐶\n",
        "𝐼\n",
        "=\n",
        "𝑋\n",
        "ˉ\n",
        "±\n",
        "𝑍\n",
        "×\n",
        "𝜎\n",
        "𝑛\n",
        "CI=\n",
        "X\n",
        "ˉ\n",
        " ±Z×\n",
        "n\n",
        "​\n",
        "\n",
        "σ\n",
        "​\n",
        "\n",
        "where\n",
        "𝑋\n",
        "ˉ\n",
        "X\n",
        "ˉ\n",
        "  is the sample mean,\n",
        "𝑍\n",
        "Z is the critical value from the Z-table,\n",
        "𝜎\n",
        "σ is the population standard deviation, and\n",
        "𝑛\n",
        "n is the sample size.\n",
        "\n",
        "A higher Z-score results in a wider confidence interval, providing more certainty but less precision, while a lower Z-score gives a narrower CI with less certainty."
      ],
      "metadata": {
        "id": "oVgu37al5Gm9"
      }
    },
    {
      "cell_type": "markdown",
      "source": [
        "20.How are Z-scores used to compare different distributions?\n",
        "Z-scores standardize values from different distributions by converting them into a common scale based on the standard normal distribution. This allows for meaningful comparisons between datasets with different means and standard deviations.\n",
        "\n",
        "By transforming raw scores using the formula:\n",
        "\n",
        "𝑍\n",
        "=\n",
        "𝑋\n",
        "−\n",
        "𝜇\n",
        "𝜎\n",
        "Z=\n",
        "σ\n",
        "X−μ\n",
        "​\n",
        "\n",
        "each value is expressed in terms of standard deviations from its mean. This makes it possible to compare scores from different distributions, such as test scores from exams with different grading scales or performance metrics from different industries. Z-scores are widely used in statistics, research, and quality control for benchmarking and outlier detection."
      ],
      "metadata": {
        "id": "gqDGv7uj5Ug3"
      }
    },
    {
      "cell_type": "markdown",
      "source": [
        "21. What are the assumptions for applying the Central Limit Theorem?\n",
        "- The Central Limit Theorem (CLT) relies on several key assumptions to hold true. First, the sample size must be sufficiently large (\n",
        "𝑛\n",
        "≥\n",
        "30\n",
        "n≥30 is typically considered adequate), as larger samples ensure the sampling distribution of the mean approaches normality. Second, the samples must be independent, meaning one observation should not influence another. This is crucial in ensuring unbiased results. Third, if sampling is done without replacement, the population should be significantly larger than the sample size (at least 10 times larger) to maintain independence. Lastly, while the original population distribution can be skewed or non-normal, the CLT ensures that the sampling distribution of the mean becomes normal as sample size increases, making statistical inference possible in real-world scenarios."
      ],
      "metadata": {
        "id": "ulG67NR05fJB"
      }
    },
    {
      "cell_type": "markdown",
      "source": [
        "22.What is the concept of expected value in a probability distribution?\n",
        "- The expected value (EV) of a probability distribution represents the long-term average or mean of a random variable over many trials. It is a weighted average of all possible outcomes, where each outcome is multiplied by its probability.\n",
        "\n",
        "For a discrete random variable\n",
        "𝑋\n",
        "X, the expected value is calculated as:\n",
        "\n",
        "𝐸\n",
        "(\n",
        "𝑋\n",
        ")\n",
        "=\n",
        "∑\n",
        "[\n",
        "𝑥\n",
        "𝑖\n",
        "⋅\n",
        "𝑃\n",
        "(\n",
        "𝑥\n",
        "𝑖\n",
        ")\n",
        "]\n",
        "E(X)=∑[x\n",
        "i\n",
        "​\n",
        " ⋅P(x\n",
        "i\n",
        "​\n",
        " )]\n",
        "For a continuous random variable, it is given by:\n",
        "\n",
        "𝐸\n",
        "(\n",
        "𝑋\n",
        ")\n",
        "=\n",
        "∫\n",
        "𝑥\n",
        "𝑓\n",
        "(\n",
        "𝑥\n",
        ")\n",
        "𝑑\n",
        "𝑥\n",
        "E(X)=∫xf(x)dx\n",
        "The expected value is widely used in decision-making, economics, and gambling, as it helps predict future outcomes based on probability distributions."
      ],
      "metadata": {
        "id": "dP8PmmRx5wBb"
      }
    },
    {
      "cell_type": "markdown",
      "source": [
        "23.How does a probability distribution relate to the expected outcome of a random variable?\n",
        "- ChatGPT said:\n",
        "A probability distribution defines the likelihood of different outcomes for a random variable, while the expected outcome (expected value) represents the long-term average of these outcomes when repeated many times.\n",
        "\n",
        "Each possible value of the random variable is weighted by its probability, ensuring that frequent outcomes contribute more to the expectation. In discrete distributions, the expected value is the sum of each outcome multiplied by its probability, while in continuous distributions, it is found using an integral.\n",
        "\n",
        "This relationship is essential in statistics, finance, and risk analysis, as it helps predict future trends based on probability models"
      ],
      "metadata": {
        "id": "jSw9vtTA54Mt"
      }
    },
    {
      "cell_type": "markdown",
      "source": [
        "# Practical Questions"
      ],
      "metadata": {
        "id": "n7AVWvNg6XOb"
      }
    },
    {
      "cell_type": "code",
      "source": [
        "#1Write a Python program to generate a random variable and display its value\n",
        "import random\n",
        "\n",
        "# Generate a random variable (uniform between 0 and 1)\n",
        "random_variable = random.random()\n",
        "\n",
        "# Display the value\n",
        "print(\"Generated Random Variable:\", random_variable)"
      ],
      "metadata": {
        "id": "F91QVfo26s11"
      },
      "execution_count": null,
      "outputs": []
    },
    {
      "cell_type": "code",
      "source": [
        "#2Generate a discrete uniform distribution using Python and plot the probability mass function (PMF)>\n",
        "import numpy as np\n",
        "import matplotlib.pyplot as plt\n",
        "from scipy.stats import randint\n",
        "\n",
        "# Define parameters for the discrete uniform distribution\n",
        "low, high = 1, 6  # Example: Simulating a fair die roll (1 to 6)\n",
        "\n",
        "# Generate possible values\n",
        "x = np.arange(low, high + 1)\n",
        "\n",
        "# Compute PMF\n",
        "pmf_values = randint.pmf(x, low, high + 1)\n",
        "\n",
        "# Plot the PMF\n",
        "plt.bar(x, pmf_values, width=0.6, color='blue', alpha=0.7, edgecolor='black')\n",
        "plt.xlabel(\"Random Variable (X)\")\n",
        "plt.ylabel(\"Probability\")\n",
        "plt.title(\"PMF of Discrete Uniform Distribution\")\n",
        "plt.xticks(x)\n",
        "plt.grid(axis='y', linestyle='--', alpha=0.7)\n",
        "plt.show()"
      ],
      "metadata": {
        "id": "sl9Vc3jS6zA2"
      },
      "execution_count": null,
      "outputs": []
    },
    {
      "cell_type": "code",
      "source": [
        "#3 Write a Python function to calculate the probability distribution function (PDF) of a Bernoulli distribution>\n",
        "def bernoulli_pdf(x, p):\n",
        "    \"\"\"\n",
        "    Calculate the Probability Distribution Function (PDF) of a Bernoulli distribution.\n",
        "\n",
        "    Parameters:\n",
        "    x (int): The outcome (0 or 1).\n",
        "    p (float): The probability of success (0 ≤ p ≤ 1).\n",
        "\n",
        "    Returns:\n",
        "    float: Probability mass function (PMF) value.\n",
        "    \"\"\"\n",
        "    if x not in [0, 1]:\n",
        "        raise ValueError(\"x must be either 0 or 1 in a Bernoulli distribution.\")\n",
        "    if not (0 <= p <= 1):\n",
        "        raise ValueError(\"Probability p must be between 0 and 1.\")\n",
        "\n",
        "    return p**x * (1 - p)**(1 - x)\n",
        "\n",
        "# Example usage\n",
        "p = 0.6  # Probability of success\n",
        "print(\"P(X=0):\", bernoulli_pdf(0, p))\n",
        "print(\"P(X=1):\", bernoulli_pdf(1, p))"
      ],
      "metadata": {
        "id": "Wva8yv8s6-Lv"
      },
      "execution_count": null,
      "outputs": []
    },
    {
      "cell_type": "code",
      "source": [
        "#4Write a Python script to simulate a binomial distribution with n=10 and p=0.5, then plot its histogram>\n",
        "import numpy as np\n",
        "import matplotlib.pyplot as plt\n",
        "from scipy.stats import binom\n",
        "\n",
        "# Parameters for the binomial distribution\n",
        "n = 10   # Number of trials\n",
        "p = 0.5  # Probability of success\n",
        "\n",
        "# Simulate 10000 random samples\n",
        "samples = np.random.binomial(n, p, 10000)\n",
        "\n",
        "# Plot histogram of the samples\n",
        "plt.hist(samples, bins=np.arange(n + 2) - 0.5, density=True, alpha=0.7, color='blue', edgecolor='black')\n",
        "\n",
        "# Plot the theoretical binomial PMF\n",
        "x = np.arange(0, n + 1)\n",
        "pmf_values = binom.pmf(x, n, p)\n",
        "plt.plot(x, pmf_values, 'ro-', label=\"Theoretical PMF\")\n",
        "\n",
        "# Labels and title\n",
        "plt.xlabel(\"Number of Successes (X)\")\n",
        "plt.ylabel(\"Probability\")\n",
        "plt.title(f\"Binomial Distribution (n={n}, p={p})\")\n",
        "plt.xticks(x)\n",
        "plt.legend()\n",
        "plt.grid(axis='y', linestyle='--', alpha=0.7)\n",
        "plt.show()"
      ],
      "metadata": {
        "id": "6FiAIF4k7IDJ"
      },
      "execution_count": null,
      "outputs": []
    },
    {
      "cell_type": "code",
      "source": [
        "#5 Create a Poisson distribution and visualize it using Python>\n",
        "import numpy as np\n",
        "import matplotlib.pyplot as plt\n",
        "from scipy.stats import poisson\n",
        "\n",
        "λ = 4  # Mean number of events\n",
        "x = np.arange(0, 15)  # Range of possible values\n",
        "pmf_values = poisson.pmf(x, λ)\n",
        "\n",
        "plt.bar(x, pmf_values, color='blue', alpha=0.7, edgecolor='black')\n",
        "plt.xlabel(\"Number of Events (X)\")\n",
        "plt.ylabel(\"Probability\")\n",
        "plt.title(\"Poisson Distribution (λ=4)\")\n",
        "plt.show()"
      ],
      "metadata": {
        "id": "Ro08SIGM7Q_a"
      },
      "execution_count": null,
      "outputs": []
    },
    {
      "cell_type": "code",
      "source": [
        "#6Write a Python program to calculate and plot the cumulative distribution function (CDF) of a discrete\n",
        "#uniform distribution>\n",
        "import numpy as np\n",
        "import matplotlib.pyplot as plt\n",
        "from scipy.stats import randint\n",
        "\n",
        "low, high = 1, 6  # Example: Rolling a fair die (1 to 6)\n",
        "x = np.arange(low, high + 1)\n",
        "cdf_values = randint.cdf(x, low, high + 1)\n",
        "\n",
        "plt.step(x, cdf_values, where='mid', color='blue', label=\"CDF\", linewidth=2)\n",
        "plt.xlabel(\"Random Variable (X)\")\n",
        "plt.ylabel(\"Cumulative Probability\")\n",
        "plt.title(\"CDF of Discrete Uniform Distribution\")\n",
        "plt.xticks(x)\n",
        "plt.grid(axis='y', linestyle='--', alpha=0.7)\n",
        "plt.legend()\n",
        "plt.show()"
      ],
      "metadata": {
        "id": "vGcRyHYA7god"
      },
      "execution_count": null,
      "outputs": []
    },
    {
      "cell_type": "code",
      "source": [
        "#7Generate a continuous uniform distribution using NumPy and visualize it\n",
        "import numpy as np\n",
        "import matplotlib.pyplot as plt\n",
        "from scipy.stats import uniform\n",
        "\n",
        "# Define the range for the uniform distribution\n",
        "low, high = 0, 10\n",
        "samples = np.random.uniform(low, high, 10000)  # Generate 10,000 samples\n",
        "\n",
        "# Plot histogram\n",
        "plt.hist(samples, bins=30, density=True, alpha=0.7, color='blue', edgecolor='black')\n",
        "\n",
        "# Plot the theoretical PDF\n",
        "x = np.linspace(low, high, 100)\n",
        "pdf_values = uniform.pdf(x, low, high - low)\n",
        "plt.plot(x, pdf_values, 'r-', label=\"Theoretical PDF\")\n",
        "\n",
        "# Labels and title\n",
        "plt.xlabel(\"Value\")\n",
        "plt.ylabel(\"Probability Density\")\n",
        "plt.title(\"Continuous Uniform Distribution\")\n",
        "plt.legend()\n",
        "plt.grid(axis='y', linestyle='--', alpha=0.7)\n",
        "plt.show()"
      ],
      "metadata": {
        "id": "0ZTTSIoq7sv2"
      },
      "execution_count": null,
      "outputs": []
    },
    {
      "cell_type": "code",
      "source": [
        "#8Simulate data from a normal distribution and plot its histogram\n",
        "import numpy as np\n",
        "import matplotlib.pyplot as plt\n",
        "from scipy.stats import norm\n",
        "\n",
        "# Parameters for the normal distribution\n",
        "mean, std_dev = 0, 1  # Standard normal distribution (μ=0, σ=1)\n",
        "samples = np.random.normal(mean, std_dev, 10000)  # Generate 10,000 samples\n",
        "\n",
        "# Plot histogram\n",
        "plt.hist(samples, bins=30, density=True, alpha=0.7, color='blue', edgecolor='black')\n",
        "\n",
        "# Plot theoretical PDF\n",
        "x = np.linspace(mean - 4*std_dev, mean + 4*std_dev, 100)\n",
        "pdf_values = norm.pdf(x, mean, std_dev)\n",
        "plt.plot(x, pdf_values, 'r-', label=\"Theoretical PDF\")\n",
        "\n",
        "# Labels and title\n",
        "plt.xlabel(\"Value\")\n",
        "plt.ylabel(\"Probability Density\")\n",
        "plt.title(\"Normal Distribution Histogram\")\n",
        "plt.legend()\n",
        "plt.grid(axis='y', linestyle='--', alpha=0.7)\n",
        "plt.show()"
      ],
      "metadata": {
        "id": "rRqVPDnw73tH"
      },
      "execution_count": null,
      "outputs": []
    },
    {
      "cell_type": "code",
      "source": [
        "#9Write a Python function to calculate Z-scores from a dataset and plot them>\n",
        "def calculate_and_plot_zscores(data):\n",
        "    \"\"\"\n",
        "    Calculate Z-scores and plot their distribution.\n",
        "\n",
        "    Parameters:\n",
        "    data (array-like): The input dataset.\n",
        "\n",
        "    Returns:\n",
        "    np.ndarray: Z-scores of the dataset.\n",
        "    \"\"\"\n",
        "    z_scores = zscore(data)  # Calculate Z-scores\n",
        "\n",
        "    # Plot histogram of Z-scores\n",
        "    sns.histplot(z_scores, bins=30, kde=True, color='blue', edgecolor='black')\n",
        "    plt.xlabel(\"Z-score\")\n",
        "    plt.ylabel(\"Frequency\")\n",
        "    plt.title(\"Z-score Distribution\")\n",
        "    plt.axvline(0, color='red', linestyle='dashed', label=\"Mean (Z=0)\")\n",
        "    plt.legend()\n",
        "    plt.grid(axis='y', linestyle='--', alpha=0.7)\n",
        "    plt.show()\n",
        "\n",
        "    return z_scores\n",
        "\n",
        "# Example usage\n",
        "data = np.random.normal(50, 10, 1000)  # Simulated dataset (mean=50, std=10)\n",
        "z_scores = calculate_and_plot_zscores(data)"
      ],
      "metadata": {
        "id": "GgdHwTT48QWE"
      },
      "execution_count": null,
      "outputs": []
    },
    {
      "cell_type": "code",
      "source": [
        "#10> Implement the Central Limit Theorem (CLT) using Python for a non-normal distribution.\n",
        "\n",
        "# Generate a uniform distribution (non-normal)\n",
        "samples = 1000\n",
        "sample_size = 30\n",
        "uniform_data = np.random.uniform(0, 10, (samples, sample_size))\n",
        "\n",
        "# Compute sample means\n",
        "sample_means = np.mean(uniform_data, axis=1)\n",
        "\n",
        "# Plot histogram of sample means\n",
        "plt.hist(sample_means, bins=30, density=True, alpha=0.7, color='blue', edgecolor='black')\n",
        "plt.xlabel(\"Sample Mean\")\n",
        "plt.ylabel(\"Frequency\")\n",
        "plt.title(\"Central Limit Theorem in Action\")\n",
        "plt.grid(axis='y', linestyle='--', alpha=0.7)\n",
        "plt.show()"
      ],
      "metadata": {
        "id": "E89V0tlO8iKH"
      },
      "execution_count": null,
      "outputs": []
    },
    {
      "cell_type": "code",
      "source": [
        "#11Simulate multiple samples from a normal distribution and verify the Central Limit Theorem5\n",
        "# Parameters for the normal distribution\n",
        "mean, std_dev = 50, 15\n",
        "samples = 1000\n",
        "sample_size = 30\n",
        "\n",
        "# Generate multiple samples and compute their means\n",
        "sample_means = np.mean(np.random.normal(mean, std_dev, (samples, sample_size)), axis=1)\n",
        "\n",
        "# Plot histogram of sample means\n",
        "plt.hist(sample_means, bins=30, density=True, alpha=0.7, color='blue', edgecolor='black')\n",
        "plt.xlabel(\"Sample Mean\")\n",
        "plt.ylabel(\"Frequency\")\n",
        "plt.title(\"Verification of Central Limit Theorem\")\n",
        "plt.grid(axis='y', linestyle='--', alpha=0.7)\n",
        "plt.show()"
      ],
      "metadata": {
        "id": "g6AUC65O8uNC"
      },
      "execution_count": null,
      "outputs": []
    },
    {
      "cell_type": "code",
      "source": [
        "#12Write a Python function to calculate and plot the standard normal distribution (mean = 0, std = 1)5\n",
        "def plot_standard_normal():\n",
        "    \"\"\"\n",
        "    Plots the Standard Normal Distribution (mean = 0, std = 1).\n",
        "    \"\"\"\n",
        "    x = np.linspace(-4, 4, 1000)  # Range of values\n",
        "    pdf_values = norm.pdf(x, 0, 1)  # Compute PDF\n",
        "\n",
        "    plt.plot(x, pdf_values, color='blue', label=\"Standard Normal PDF\")\n",
        "    plt.xlabel(\"Z-score\")\n",
        "    plt.ylabel(\"Probability Density\")\n",
        "    plt.title(\"Standard Normal Distribution (μ=0, σ=1)\")\n",
        "    plt.axvline(0, color='red', linestyle='dashed', label=\"Mean (Z=0)\")\n",
        "    plt.legend()\n",
        "    plt.grid(axis='y', linestyle='--', alpha=0.7)\n",
        "    plt.show()\n",
        "\n",
        "# Call the function\n",
        "plot_standard_normal()"
      ],
      "metadata": {
        "id": "tkRLJhg79HWk"
      },
      "execution_count": null,
      "outputs": []
    },
    {
      "cell_type": "code",
      "source": [
        "#13Generate random variables and calculate their corresponding probabilities using the binomial distribution\n",
        "# Parameters for the binomial distribution\n",
        "n, p = 10, 0.5  # n = number of trials, p = probability of success\n",
        "x = np.arange(0, n+1)  # Possible outcomes (0 to n)\n",
        "probabilities = binom.pmf(x, n, p)  # Calculate PMF\n",
        "\n",
        "# Generate random variables\n",
        "random_variables = np.random.binomial(n, p, 1000)\n",
        "\n",
        "# Plot PMF\n",
        "plt.bar(x, probabilities, alpha=0.7, color='blue', edgecolor='black', label=\"PMF\")\n",
        "plt.xlabel(\"Number of Successes\")\n",
        "plt.ylabel(\"Probability\")\n",
        "plt.title(\"Binomial Distribution (n=10, p=0.5)\")\n",
        "plt.legend()\n",
        "plt.grid(axis='y', linestyle='--', alpha=0.7)\n",
        "plt.show()"
      ],
      "metadata": {
        "id": "GKTASGZX9N3N"
      },
      "execution_count": null,
      "outputs": []
    },
    {
      "cell_type": "code",
      "source": [
        "#14Write a Python program to calculate the Z-score for a given data point and compare it to a standard normal\n",
        "#distribution\n",
        "def calculate_z_score(data, value):\n",
        "    \"\"\"\n",
        "    Calculate the Z-score of a given data point and compare it to a standard normal distribution.\n",
        "\n",
        "    Parameters:\n",
        "    data (array-like): Dataset\n",
        "    value (float): Data point for which Z-score is calculated\n",
        "\n",
        "    Returns:\n",
        "    float: Z-score of the given value\n",
        "    \"\"\"\n",
        "    mean = np.mean(data)\n",
        "    std_dev = np.std(data, ddof=1)  # Sample standard deviation\n",
        "    z_score = (value - mean) / std_dev  # Z-score formula\n",
        "\n",
        "    # Plot standard normal distribution\n",
        "    x = np.linspace(-4, 4, 1000)\n",
        "    pdf_values = norm.pdf(x, 0, 1)\n",
        "    plt.plot(x, pdf_values, color='blue', label=\"Standard Normal PDF\")\n",
        "    plt.axvline(z_score, color='red', linestyle='dashed', label=f\"Z-score = {z_score:.2f}\")\n",
        "    plt.xlabel(\"Z-score\")\n",
        "    plt.ylabel(\"Probability Density\")\n",
        "    plt.title(\"Comparison with Standard Normal Distribution\")\n",
        "    plt.legend()\n",
        "    plt.grid(axis='y', linestyle='--', alpha=0.7)\n",
        "    plt.show()\n",
        "\n",
        "    return z_score\n",
        "\n",
        "# Example usage\n",
        "data = np.random.normal(50, 10, 100)  # Simulated dataset (mean=50, std=10)\n",
        "value = 55  # Example data point\n",
        "z_score = calculate_z_score(data, value)\n",
        "print(f\"Z-score for {value}: {z_score:.2f}\")"
      ],
      "metadata": {
        "id": "WLAcUCil9Wju"
      },
      "execution_count": null,
      "outputs": []
    },
    {
      "cell_type": "code",
      "source": [
        "#15Implement hypothesis testing using Z-statistics for a sample dataset\n",
        "def z_test(sample, pop_mean, pop_std, alpha=0.05):\n",
        "    \"\"\"\n",
        "    Perform a one-sample Z-test for the mean.\n",
        "\n",
        "    Parameters:\n",
        "    sample (array-like): Sample dataset\n",
        "    pop_mean (float): Population mean (H0)\n",
        "    pop_std (float): Population standard deviation\n",
        "    alpha (float): Significance level (default 0.05)\n",
        "\n",
        "    Returns:\n",
        "    None (Prints the result of hypothesis testing)\n",
        "    \"\"\"\n",
        "    sample_mean = np.mean(sample)\n",
        "    sample_size = len(sample)\n",
        "    z_score = (sample_mean - pop_mean) / (pop_std / np.sqrt(sample_size))\n",
        "\n",
        "    # Critical value for two-tailed test\n",
        "    z_critical = norm.ppf(1 - alpha/2)\n",
        "\n",
        "    print(f\"Z-score: {z_score:.2f}, Critical Z: ±{z_critical:.2f}\")\n",
        "\n",
        "    # Decision rule\n",
        "    if abs(z_score) > z_critical:\n",
        "        print(\"Reject the null hypothesis (H0).\")\n",
        "    else:\n",
        "        print(\"Fail to reject the null hypothesis (H0).\")\n",
        "\n",
        "# Example usage\n",
        "sample_data = np.random.normal(52, 5, 30)  # Sample from normal distribution (mean=52, std=5)\n",
        "population_mean = 50  # Hypothesized population mean\n",
        "population_std = 5    # Known population standard deviation\n",
        "z_test(sample_data, population_mean, population_std)"
      ],
      "metadata": {
        "id": "-xBDHktC9lfk"
      },
      "execution_count": null,
      "outputs": []
    },
    {
      "cell_type": "code",
      "source": [
        "#16Create a confidence interval for a dataset using Python and interpret the result\n",
        "def confidence_interval(sample, confidence=0.95):\n",
        "    \"\"\"\n",
        "    Calculate the confidence interval for a sample dataset.\n",
        "\n",
        "    Parameters:\n",
        "    sample (array-like): Sample dataset\n",
        "    confidence (float): Confidence level (default 95%)\n",
        "\n",
        "    Returns:\n",
        "    tuple: Lower and upper bounds of the confidence interval\n",
        "    \"\"\"\n",
        "    sample_mean = np.mean(sample)\n",
        "    sample_std = np.std(sample, ddof=1)  # Sample standard deviation\n",
        "    n = len(sample)\n",
        "\n",
        "    # Compute margin of error\n",
        "    z_critical = norm.ppf(1 - (1 - confidence) / 2)\n",
        "    margin_of_error = z_critical * (sample_std / np.sqrt(n))\n",
        "\n",
        "    # Confidence interval bounds\n",
        "    lower_bound = sample_mean - margin_of_error\n",
        "    upper_bound = sample_mean + margin_of_error\n",
        "\n",
        "    print(f\"{confidence*100}% Confidence Interval: ({lower_bound:.2f}, {upper_bound:.2f})\")\n",
        "    return lower_bound, upper_bound"
      ],
      "metadata": {
        "id": "gTSFJKxL92LN"
      },
      "execution_count": null,
      "outputs": []
    },
    {
      "cell_type": "code",
      "source": [
        "#17Generate data from a normal distribution, then calculate and interpret the confidence interval for its mean5\n",
        "def confidence_interval(sample, confidence=0.95):\n",
        "    \"\"\"\n",
        "    Calculate the confidence interval for the mean of a normal distribution.\n",
        "\n",
        "    Parameters:\n",
        "    sample (array-like): Sample dataset\n",
        "    confidence (float): Confidence level (default 95%)\n",
        "\n",
        "    Returns:\n",
        "    tuple: Lower and upper bounds of the confidence interval\n",
        "    \"\"\"\n",
        "    sample_mean = np.mean(sample)\n",
        "    sample_std = np.std(sample, ddof=1)  # Sample standard deviation\n",
        "    n = len(sample)\n",
        "\n",
        "    # Compute margin of error\n",
        "    z_critical = norm.ppf(1 - (1 - confidence) / 2)\n",
        "    margin_of_error = z_critical * (sample_std / np.sqrt(n))\n",
        "\n",
        "    # Confidence interval bounds\n",
        "    lower_bound = sample_mean - margin_of_error\n",
        "    upper_bound = sample_mean + margin_of_error\n",
        "\n",
        "    print(f\"{confidence*100}% Confidence Interval: ({lower_bound:.2f}, {upper_bound:.2f})\")\n",
        "    print(f\"Interpretation: We are {confidence*100}% confident that the true population mean lies within this interval.\")\n",
        "\n",
        "    return lower_bound, upper_bound\n",
        "\n",
        "# Generate data from a normal distribution\n",
        "np.random.seed(42)\n",
        "sample_data = np.random.normal(loc=50, scale=10, size=30)  # mean=50, std=10, sample size=30\n",
        "\n",
        "# Calculate confidence interval\n",
        "confidence_interval(sample_data)"
      ],
      "metadata": {
        "id": "Hcew00DK-Pi4"
      },
      "execution_count": null,
      "outputs": []
    },
    {
      "cell_type": "code",
      "source": [
        "#18Write a Python script to calculate and visualize the probability density function (PDF) of a normal distribution5\n",
        "# Define parameters\n",
        "mean = 0     # Mean of the normal distribution\n",
        "std_dev = 1  # Standard deviation\n",
        "\n",
        "# Generate values for x-axis\n",
        "x = np.linspace(mean - 4*std_dev, mean + 4*std_dev, 1000)\n",
        "\n",
        "# Compute the PDF\n",
        "pdf = norm.pdf(x, mean, std_dev)\n",
        "\n",
        "# Plot the PDF\n",
        "plt.figure(figsize=(8, 5))\n",
        "plt.plot(x, pdf, label=f\"Normal PDF (mean={mean}, std={std_dev})\", color='blue')\n",
        "plt.xlabel(\"X\")\n",
        "plt.ylabel(\"Density\")\n",
        "plt.title(\"Probability Density Function (PDF) of Normal Distribution\")\n",
        "plt.legend()\n",
        "plt.grid()\n",
        "plt.show()"
      ],
      "metadata": {
        "id": "hMTzPPjxZrri"
      },
      "execution_count": null,
      "outputs": []
    },
    {
      "cell_type": "code",
      "source": [
        "#19Use Python to calculate and interpret the cumulative distribution function (CDF) of a Poisson distribution5\n",
        "# Define Poisson distribution parameter (λ = average rate of occurrences)\n",
        "lambda_ = 5\n",
        "\n",
        "# Generate values (discrete x values from 0 to 15)\n",
        "x = np.arange(0, 16)\n",
        "\n",
        "# Compute CDF\n",
        "cdf = poisson.cdf(x, lambda_)\n",
        "\n",
        "# Plot the CDF\n",
        "plt.figure(figsize=(8, 5))\n",
        "plt.step(x, cdf, where=\"mid\", label=f\"Poisson CDF (λ={lambda_})\", color='green')\n",
        "plt.xlabel(\"Number of Events (k)\")\n",
        "plt.ylabel(\"Cumulative Probability\")\n",
        "plt.title(\"Cumulative Distribution Function (CDF) of Poisson Distribution\")\n",
        "plt.legend()\n",
        "plt.grid()\n",
        "plt.show()\n",
        "\n",
        "# Interpretation\n",
        "prob_3_or_less = poisson.cdf(3, lambda_)\n",
        "print(f\"Probability of 3 or fewer occurrences: {prob_3_or_less:.4f}\")"
      ],
      "metadata": {
        "id": "NQVYI19wZ4YF"
      },
      "execution_count": null,
      "outputs": []
    },
    {
      "cell_type": "code",
      "source": [
        "#20Simulate a random variable using a continuous uniform distribution and calculate its expected value\n",
        "# Define the range [a, b] for the uniform distribution\n",
        "a, b = 2, 10\n",
        "\n",
        "# Simulate a random variable from the uniform distribution\n",
        "sample = np.random.uniform(a, b, 1000)  # Generate 1000 random values\n",
        "\n",
        "# Calculate the expected value (mean of the uniform distribution)\n",
        "expected_value = (a + b) / 2\n",
        "\n",
        "print(f\"Expected Value (Theoretical Mean): {expected_value:.2f}\")\n",
        "print(f\"Sample Mean (Approximation): {np.mean(sample):.2f}\")"
      ],
      "metadata": {
        "id": "cUT19hyJaDAm"
      },
      "execution_count": null,
      "outputs": []
    },
    {
      "cell_type": "code",
      "source": [
        "#215 Write a Python program to compare the standard deviations of two datasets and visualize the difference\n",
        "# Generate two datasets with different standard deviations\n",
        "np.random.seed(42)\n",
        "data1 = np.random.normal(loc=50, scale=10, size=1000)  # Mean=50, Std Dev=10\n",
        "data2 = np.random.normal(loc=50, scale=20, size=1000)  # Mean=50, Std Dev=20\n",
        "\n",
        "# Calculate standard deviations\n",
        "std1 = np.std(data1, ddof=1)\n",
        "std2 = np.std(data2, ddof=1)\n",
        "\n",
        "# Print standard deviations\n",
        "print(f\"Standard Deviation of Dataset 1: {std1:.2f}\")\n",
        "print(f\"Standard Deviation of Dataset 2: {std2:.2f}\")\n",
        "\n",
        "# Visualization\n",
        "plt.figure(figsize=(8, 5))\n",
        "plt.hist(data1, bins=30, alpha=0.5, label=f\"Dataset 1 (Std={std1:.2f})\", color='blue', density=True)\n",
        "plt.hist(data2, bins=30, alpha=0.5, label=f\"Dataset 2 (Std={std2:.2f})\", color='red', density=True)\n",
        "plt.xlabel(\"Value\")\n",
        "plt.ylabel(\"Density\")\n",
        "plt.title(\"Comparison of Standard Deviations\")\n",
        "plt.legend()\n",
        "plt.grid()\n",
        "plt.show()"
      ],
      "metadata": {
        "id": "foUSlk9JaLsl"
      },
      "execution_count": null,
      "outputs": []
    },
    {
      "cell_type": "code",
      "source": [
        "#22Calculate the range and interquartile range (IQR) of a dataset generated from a normal distribution\n",
        "# Generate a dataset from a normal distribution\n",
        "np.random.seed(42)\n",
        "data = np.random.normal(loc=50, scale=15, size=1000)  # Mean=50, Std Dev=15\n",
        "\n",
        "# Calculate range\n",
        "data_range = np.max(data) - np.min(data)\n",
        "\n",
        "# Calculate interquartile range (IQR)\n",
        "Q1 = np.percentile(data, 25)  # 25th percentile\n",
        "Q3 = np.percentile(data, 75)  # 75th percentile\n",
        "IQR = Q3 - Q1\n",
        "\n",
        "# Print results\n",
        "print(f\"Range: {data_range:.2f}\")\n",
        "print(f\"Interquartile Range (IQR): {IQR:.2f}\")"
      ],
      "metadata": {
        "id": "tTKzCbX2aTYf"
      },
      "execution_count": null,
      "outputs": []
    },
    {
      "cell_type": "code",
      "source": [
        "#23Implement Z-score normalization on a dataset and visualize its transformation\n",
        "# Generate a dataset from a normal distribution\n",
        "np.random.seed(42)\n",
        "data = np.random.normal(loc=50, scale=15, size=1000)  # Mean=50, Std Dev=15\n",
        "\n",
        "# Apply Z-score normalization\n",
        "normalized_data = zscore(data)\n",
        "\n",
        "# Plot original vs. normalized data\n",
        "plt.figure(figsize=(10, 5))\n",
        "\n",
        "# Original data histogram\n",
        "plt.subplot(1, 2, 1)\n",
        "plt.hist(data, bins=30, color='blue', alpha=0.7, label=\"Original Data\")\n",
        "plt.axvline(np.mean(data), color='red', linestyle='dashed', linewidth=2, label=\"Mean\")\n",
        "plt.xlabel(\"Value\")\n",
        "plt.ylabel(\"Frequency\")\n",
        "plt.title(\"Original Data Distribution\")\n",
        "plt.legend()\n",
        "\n",
        "# Normalized data histogram\n",
        "plt.subplot(1, 2, 2)\n",
        "plt.hist(normalized_data, bins=30, color='green', alpha=0.7, label=\"Z-score Normalized Data\")\n",
        "plt.axvline(np.mean(normalized_data), color='red', linestyle='dashed', linewidth=2, label=\"Mean (0)\")\n",
        "plt.xlabel(\"Z-score\")\n",
        "plt.title(\"Z-score Normalized Distribution\")\n",
        "plt.legend()\n",
        "\n",
        "plt.tight_layout()\n",
        "plt.show()"
      ],
      "metadata": {
        "id": "OqvDMXZ4aerS"
      },
      "execution_count": null,
      "outputs": []
    },
    {
      "cell_type": "code",
      "source": [
        "#24Write a Python function to calculate the skewness and kurtosis of a dataset generated from a normal\n",
        "#distribution\n",
        "def calculate_skewness_kurtosis(size=1000, mean=50, std=15):\n",
        "    # Generate data from a normal distribution\n",
        "    data = np.random.normal(loc=mean, scale=std, size=size)\n",
        "\n",
        "    # Calculate skewness and kurtosis\n",
        "    skewness = skew(data)\n",
        "    kurt = kurtosis(data)\n",
        "\n",
        "    return skewness, kurt\n",
        "\n",
        "# Call function and display results\n",
        "skew_value, kurt_value = calculate_skewness_kurtosis()\n",
        "print(f\"Skewness: {skew_value:.4f}\")\n",
        "print(f\"Kurtosis: {kurt_value:.4f}\")"
      ],
      "metadata": {
        "id": "Y15bAij5anvK"
      },
      "execution_count": null,
      "outputs": []
    }
  ]
}